{
  "nbformat": 4,
  "nbformat_minor": 0,
  "metadata": {
    "colab": {
      "name": "FASHION_MNIST.ipynb",
      "provenance": []
    },
    "kernelspec": {
      "name": "python3",
      "display_name": "Python 3"
    },
    "accelerator": "GPU"
  },
  "cells": [
    {
      "cell_type": "code",
      "metadata": {
        "id": "4Op5RLaODcpY",
        "colab_type": "code",
        "colab": {
          "base_uri": "https://localhost:8080/",
          "height": 490
        },
        "outputId": "f1b799ae-fa37-4b5f-f080-bc284bf4794e"
      },
      "source": [
        "!pip install -U tensorflow_datasets"
      ],
      "execution_count": 1,
      "outputs": [
        {
          "output_type": "stream",
          "text": [
            "Collecting tensorflow_datasets\n",
            "\u001b[?25l  Downloading https://files.pythonhosted.org/packages/bd/99/996b15ff5d11166c3516012838f569f78d57b71d4aac051caea826f6c7e0/tensorflow_datasets-3.1.0-py3-none-any.whl (3.3MB)\n",
            "\r\u001b[K     |                                | 10kB 26.8MB/s eta 0:00:01\r\u001b[K     |▏                               | 20kB 3.1MB/s eta 0:00:02\r\u001b[K     |▎                               | 30kB 4.2MB/s eta 0:00:01\r\u001b[K     |▍                               | 40kB 4.5MB/s eta 0:00:01\r\u001b[K     |▌                               | 51kB 3.7MB/s eta 0:00:01\r\u001b[K     |▋                               | 61kB 4.2MB/s eta 0:00:01\r\u001b[K     |▊                               | 71kB 4.4MB/s eta 0:00:01\r\u001b[K     |▉                               | 81kB 4.8MB/s eta 0:00:01\r\u001b[K     |█                               | 92kB 5.1MB/s eta 0:00:01\r\u001b[K     |█                               | 102kB 4.9MB/s eta 0:00:01\r\u001b[K     |█                               | 112kB 4.9MB/s eta 0:00:01\r\u001b[K     |█▏                              | 122kB 4.9MB/s eta 0:00:01\r\u001b[K     |█▎                              | 133kB 4.9MB/s eta 0:00:01\r\u001b[K     |█▍                              | 143kB 4.9MB/s eta 0:00:01\r\u001b[K     |█▌                              | 153kB 4.9MB/s eta 0:00:01\r\u001b[K     |█▋                              | 163kB 4.9MB/s eta 0:00:01\r\u001b[K     |█▊                              | 174kB 4.9MB/s eta 0:00:01\r\u001b[K     |█▉                              | 184kB 4.9MB/s eta 0:00:01\r\u001b[K     |█▉                              | 194kB 4.9MB/s eta 0:00:01\r\u001b[K     |██                              | 204kB 4.9MB/s eta 0:00:01\r\u001b[K     |██                              | 215kB 4.9MB/s eta 0:00:01\r\u001b[K     |██▏                             | 225kB 4.9MB/s eta 0:00:01\r\u001b[K     |██▎                             | 235kB 4.9MB/s eta 0:00:01\r\u001b[K     |██▍                             | 245kB 4.9MB/s eta 0:00:01\r\u001b[K     |██▌                             | 256kB 4.9MB/s eta 0:00:01\r\u001b[K     |██▋                             | 266kB 4.9MB/s eta 0:00:01\r\u001b[K     |██▊                             | 276kB 4.9MB/s eta 0:00:01\r\u001b[K     |██▉                             | 286kB 4.9MB/s eta 0:00:01\r\u001b[K     |██▉                             | 296kB 4.9MB/s eta 0:00:01\r\u001b[K     |███                             | 307kB 4.9MB/s eta 0:00:01\r\u001b[K     |███                             | 317kB 4.9MB/s eta 0:00:01\r\u001b[K     |███▏                            | 327kB 4.9MB/s eta 0:00:01\r\u001b[K     |███▎                            | 337kB 4.9MB/s eta 0:00:01\r\u001b[K     |███▍                            | 348kB 4.9MB/s eta 0:00:01\r\u001b[K     |███▌                            | 358kB 4.9MB/s eta 0:00:01\r\u001b[K     |███▋                            | 368kB 4.9MB/s eta 0:00:01\r\u001b[K     |███▊                            | 378kB 4.9MB/s eta 0:00:01\r\u001b[K     |███▊                            | 389kB 4.9MB/s eta 0:00:01\r\u001b[K     |███▉                            | 399kB 4.9MB/s eta 0:00:01\r\u001b[K     |████                            | 409kB 4.9MB/s eta 0:00:01\r\u001b[K     |████                            | 419kB 4.9MB/s eta 0:00:01\r\u001b[K     |████▏                           | 430kB 4.9MB/s eta 0:00:01\r\u001b[K     |████▎                           | 440kB 4.9MB/s eta 0:00:01\r\u001b[K     |████▍                           | 450kB 4.9MB/s eta 0:00:01\r\u001b[K     |████▌                           | 460kB 4.9MB/s eta 0:00:01\r\u001b[K     |████▋                           | 471kB 4.9MB/s eta 0:00:01\r\u001b[K     |████▊                           | 481kB 4.9MB/s eta 0:00:01\r\u001b[K     |████▊                           | 491kB 4.9MB/s eta 0:00:01\r\u001b[K     |████▉                           | 501kB 4.9MB/s eta 0:00:01\r\u001b[K     |█████                           | 512kB 4.9MB/s eta 0:00:01\r\u001b[K     |█████                           | 522kB 4.9MB/s eta 0:00:01\r\u001b[K     |█████▏                          | 532kB 4.9MB/s eta 0:00:01\r\u001b[K     |█████▎                          | 542kB 4.9MB/s eta 0:00:01\r\u001b[K     |█████▍                          | 552kB 4.9MB/s eta 0:00:01\r\u001b[K     |█████▌                          | 563kB 4.9MB/s eta 0:00:01\r\u001b[K     |█████▋                          | 573kB 4.9MB/s eta 0:00:01\r\u001b[K     |█████▋                          | 583kB 4.9MB/s eta 0:00:01\r\u001b[K     |█████▊                          | 593kB 4.9MB/s eta 0:00:01\r\u001b[K     |█████▉                          | 604kB 4.9MB/s eta 0:00:01\r\u001b[K     |██████                          | 614kB 4.9MB/s eta 0:00:01\r\u001b[K     |██████                          | 624kB 4.9MB/s eta 0:00:01\r\u001b[K     |██████▏                         | 634kB 4.9MB/s eta 0:00:01\r\u001b[K     |██████▎                         | 645kB 4.9MB/s eta 0:00:01\r\u001b[K     |██████▍                         | 655kB 4.9MB/s eta 0:00:01\r\u001b[K     |██████▌                         | 665kB 4.9MB/s eta 0:00:01\r\u001b[K     |██████▋                         | 675kB 4.9MB/s eta 0:00:01\r\u001b[K     |██████▋                         | 686kB 4.9MB/s eta 0:00:01\r\u001b[K     |██████▊                         | 696kB 4.9MB/s eta 0:00:01\r\u001b[K     |██████▉                         | 706kB 4.9MB/s eta 0:00:01\r\u001b[K     |███████                         | 716kB 4.9MB/s eta 0:00:01\r\u001b[K     |███████                         | 727kB 4.9MB/s eta 0:00:01\r\u001b[K     |███████▏                        | 737kB 4.9MB/s eta 0:00:01\r\u001b[K     |███████▎                        | 747kB 4.9MB/s eta 0:00:01\r\u001b[K     |███████▍                        | 757kB 4.9MB/s eta 0:00:01\r\u001b[K     |███████▌                        | 768kB 4.9MB/s eta 0:00:01\r\u001b[K     |███████▌                        | 778kB 4.9MB/s eta 0:00:01\r\u001b[K     |███████▋                        | 788kB 4.9MB/s eta 0:00:01\r\u001b[K     |███████▊                        | 798kB 4.9MB/s eta 0:00:01\r\u001b[K     |███████▉                        | 808kB 4.9MB/s eta 0:00:01\r\u001b[K     |████████                        | 819kB 4.9MB/s eta 0:00:01\r\u001b[K     |████████                        | 829kB 4.9MB/s eta 0:00:01\r\u001b[K     |████████▏                       | 839kB 4.9MB/s eta 0:00:01\r\u001b[K     |████████▎                       | 849kB 4.9MB/s eta 0:00:01\r\u001b[K     |████████▍                       | 860kB 4.9MB/s eta 0:00:01\r\u001b[K     |████████▌                       | 870kB 4.9MB/s eta 0:00:01\r\u001b[K     |████████▌                       | 880kB 4.9MB/s eta 0:00:01\r\u001b[K     |████████▋                       | 890kB 4.9MB/s eta 0:00:01\r\u001b[K     |████████▊                       | 901kB 4.9MB/s eta 0:00:01\r\u001b[K     |████████▉                       | 911kB 4.9MB/s eta 0:00:01\r\u001b[K     |█████████                       | 921kB 4.9MB/s eta 0:00:01\r\u001b[K     |█████████                       | 931kB 4.9MB/s eta 0:00:01\r\u001b[K     |█████████▏                      | 942kB 4.9MB/s eta 0:00:01\r\u001b[K     |█████████▎                      | 952kB 4.9MB/s eta 0:00:01\r\u001b[K     |█████████▍                      | 962kB 4.9MB/s eta 0:00:01\r\u001b[K     |█████████▍                      | 972kB 4.9MB/s eta 0:00:01\r\u001b[K     |█████████▌                      | 983kB 4.9MB/s eta 0:00:01\r\u001b[K     |█████████▋                      | 993kB 4.9MB/s eta 0:00:01\r\u001b[K     |█████████▊                      | 1.0MB 4.9MB/s eta 0:00:01\r\u001b[K     |█████████▉                      | 1.0MB 4.9MB/s eta 0:00:01\r\u001b[K     |██████████                      | 1.0MB 4.9MB/s eta 0:00:01\r\u001b[K     |██████████                      | 1.0MB 4.9MB/s eta 0:00:01\r\u001b[K     |██████████▏                     | 1.0MB 4.9MB/s eta 0:00:01\r\u001b[K     |██████████▎                     | 1.1MB 4.9MB/s eta 0:00:01\r\u001b[K     |██████████▍                     | 1.1MB 4.9MB/s eta 0:00:01\r\u001b[K     |██████████▍                     | 1.1MB 4.9MB/s eta 0:00:01\r\u001b[K     |██████████▌                     | 1.1MB 4.9MB/s eta 0:00:01\r\u001b[K     |██████████▋                     | 1.1MB 4.9MB/s eta 0:00:01\r\u001b[K     |██████████▊                     | 1.1MB 4.9MB/s eta 0:00:01\r\u001b[K     |██████████▉                     | 1.1MB 4.9MB/s eta 0:00:01\r\u001b[K     |███████████                     | 1.1MB 4.9MB/s eta 0:00:01\r\u001b[K     |███████████                     | 1.1MB 4.9MB/s eta 0:00:01\r\u001b[K     |███████████▏                    | 1.1MB 4.9MB/s eta 0:00:01\r\u001b[K     |███████████▎                    | 1.2MB 4.9MB/s eta 0:00:01\r\u001b[K     |███████████▎                    | 1.2MB 4.9MB/s eta 0:00:01\r\u001b[K     |███████████▍                    | 1.2MB 4.9MB/s eta 0:00:01\r\u001b[K     |███████████▌                    | 1.2MB 4.9MB/s eta 0:00:01\r\u001b[K     |███████████▋                    | 1.2MB 4.9MB/s eta 0:00:01\r\u001b[K     |███████████▊                    | 1.2MB 4.9MB/s eta 0:00:01\r\u001b[K     |███████████▉                    | 1.2MB 4.9MB/s eta 0:00:01\r\u001b[K     |████████████                    | 1.2MB 4.9MB/s eta 0:00:01\r\u001b[K     |████████████                    | 1.2MB 4.9MB/s eta 0:00:01\r\u001b[K     |████████████▏                   | 1.2MB 4.9MB/s eta 0:00:01\r\u001b[K     |████████████▎                   | 1.3MB 4.9MB/s eta 0:00:01\r\u001b[K     |████████████▎                   | 1.3MB 4.9MB/s eta 0:00:01\r\u001b[K     |████████████▍                   | 1.3MB 4.9MB/s eta 0:00:01\r\u001b[K     |████████████▌                   | 1.3MB 4.9MB/s eta 0:00:01\r\u001b[K     |████████████▋                   | 1.3MB 4.9MB/s eta 0:00:01\r\u001b[K     |████████████▊                   | 1.3MB 4.9MB/s eta 0:00:01\r\u001b[K     |████████████▉                   | 1.3MB 4.9MB/s eta 0:00:01\r\u001b[K     |█████████████                   | 1.3MB 4.9MB/s eta 0:00:01\r\u001b[K     |█████████████                   | 1.3MB 4.9MB/s eta 0:00:01\r\u001b[K     |█████████████▏                  | 1.4MB 4.9MB/s eta 0:00:01\r\u001b[K     |█████████████▏                  | 1.4MB 4.9MB/s eta 0:00:01\r\u001b[K     |█████████████▎                  | 1.4MB 4.9MB/s eta 0:00:01\r\u001b[K     |█████████████▍                  | 1.4MB 4.9MB/s eta 0:00:01\r\u001b[K     |█████████████▌                  | 1.4MB 4.9MB/s eta 0:00:01\r\u001b[K     |█████████████▋                  | 1.4MB 4.9MB/s eta 0:00:01\r\u001b[K     |█████████████▊                  | 1.4MB 4.9MB/s eta 0:00:01\r\u001b[K     |█████████████▉                  | 1.4MB 4.9MB/s eta 0:00:01\r\u001b[K     |██████████████                  | 1.4MB 4.9MB/s eta 0:00:01\r\u001b[K     |██████████████                  | 1.4MB 4.9MB/s eta 0:00:01\r\u001b[K     |██████████████▏                 | 1.5MB 4.9MB/s eta 0:00:01\r\u001b[K     |██████████████▏                 | 1.5MB 4.9MB/s eta 0:00:01\r\u001b[K     |██████████████▎                 | 1.5MB 4.9MB/s eta 0:00:01\r\u001b[K     |██████████████▍                 | 1.5MB 4.9MB/s eta 0:00:01\r\u001b[K     |██████████████▌                 | 1.5MB 4.9MB/s eta 0:00:01\r\u001b[K     |██████████████▋                 | 1.5MB 4.9MB/s eta 0:00:01\r\u001b[K     |██████████████▊                 | 1.5MB 4.9MB/s eta 0:00:01\r\u001b[K     |██████████████▉                 | 1.5MB 4.9MB/s eta 0:00:01\r\u001b[K     |███████████████                 | 1.5MB 4.9MB/s eta 0:00:01\r\u001b[K     |███████████████                 | 1.5MB 4.9MB/s eta 0:00:01\r\u001b[K     |███████████████                 | 1.6MB 4.9MB/s eta 0:00:01\r\u001b[K     |███████████████▏                | 1.6MB 4.9MB/s eta 0:00:01\r\u001b[K     |███████████████▎                | 1.6MB 4.9MB/s eta 0:00:01\r\u001b[K     |███████████████▍                | 1.6MB 4.9MB/s eta 0:00:01\r\u001b[K     |███████████████▌                | 1.6MB 4.9MB/s eta 0:00:01\r\u001b[K     |███████████████▋                | 1.6MB 4.9MB/s eta 0:00:01\r\u001b[K     |███████████████▊                | 1.6MB 4.9MB/s eta 0:00:01\r\u001b[K     |███████████████▉                | 1.6MB 4.9MB/s eta 0:00:01\r\u001b[K     |████████████████                | 1.6MB 4.9MB/s eta 0:00:01\r\u001b[K     |████████████████                | 1.6MB 4.9MB/s eta 0:00:01\r\u001b[K     |████████████████                | 1.7MB 4.9MB/s eta 0:00:01\r\u001b[K     |████████████████▏               | 1.7MB 4.9MB/s eta 0:00:01\r\u001b[K     |████████████████▎               | 1.7MB 4.9MB/s eta 0:00:01\r\u001b[K     |████████████████▍               | 1.7MB 4.9MB/s eta 0:00:01\r\u001b[K     |████████████████▌               | 1.7MB 4.9MB/s eta 0:00:01\r\u001b[K     |████████████████▋               | 1.7MB 4.9MB/s eta 0:00:01\r\u001b[K     |████████████████▊               | 1.7MB 4.9MB/s eta 0:00:01\r\u001b[K     |████████████████▉               | 1.7MB 4.9MB/s eta 0:00:01\r\u001b[K     |█████████████████               | 1.7MB 4.9MB/s eta 0:00:01\r\u001b[K     |█████████████████               | 1.8MB 4.9MB/s eta 0:00:01\r\u001b[K     |█████████████████               | 1.8MB 4.9MB/s eta 0:00:01\r\u001b[K     |█████████████████▏              | 1.8MB 4.9MB/s eta 0:00:01\r\u001b[K     |█████████████████▎              | 1.8MB 4.9MB/s eta 0:00:01\r\u001b[K     |█████████████████▍              | 1.8MB 4.9MB/s eta 0:00:01\r\u001b[K     |█████████████████▌              | 1.8MB 4.9MB/s eta 0:00:01\r\u001b[K     |█████████████████▋              | 1.8MB 4.9MB/s eta 0:00:01\r\u001b[K     |█████████████████▊              | 1.8MB 4.9MB/s eta 0:00:01\r\u001b[K     |█████████████████▉              | 1.8MB 4.9MB/s eta 0:00:01\r\u001b[K     |██████████████████              | 1.8MB 4.9MB/s eta 0:00:01\r\u001b[K     |██████████████████              | 1.9MB 4.9MB/s eta 0:00:01\r\u001b[K     |██████████████████              | 1.9MB 4.9MB/s eta 0:00:01\r\u001b[K     |██████████████████▏             | 1.9MB 4.9MB/s eta 0:00:01\r\u001b[K     |██████████████████▎             | 1.9MB 4.9MB/s eta 0:00:01\r\u001b[K     |██████████████████▍             | 1.9MB 4.9MB/s eta 0:00:01\r\u001b[K     |██████████████████▌             | 1.9MB 4.9MB/s eta 0:00:01\r\u001b[K     |██████████████████▋             | 1.9MB 4.9MB/s eta 0:00:01\r\u001b[K     |██████████████████▊             | 1.9MB 4.9MB/s eta 0:00:01\r\u001b[K     |██████████████████▉             | 1.9MB 4.9MB/s eta 0:00:01\r\u001b[K     |██████████████████▉             | 1.9MB 4.9MB/s eta 0:00:01\r\u001b[K     |███████████████████             | 2.0MB 4.9MB/s eta 0:00:01\r\u001b[K     |███████████████████             | 2.0MB 4.9MB/s eta 0:00:01\r\u001b[K     |███████████████████▏            | 2.0MB 4.9MB/s eta 0:00:01\r\u001b[K     |███████████████████▎            | 2.0MB 4.9MB/s eta 0:00:01\r\u001b[K     |███████████████████▍            | 2.0MB 4.9MB/s eta 0:00:01\r\u001b[K     |███████████████████▌            | 2.0MB 4.9MB/s eta 0:00:01\r\u001b[K     |███████████████████▋            | 2.0MB 4.9MB/s eta 0:00:01\r\u001b[K     |███████████████████▊            | 2.0MB 4.9MB/s eta 0:00:01\r\u001b[K     |███████████████████▉            | 2.0MB 4.9MB/s eta 0:00:01\r\u001b[K     |███████████████████▉            | 2.0MB 4.9MB/s eta 0:00:01\r\u001b[K     |████████████████████            | 2.1MB 4.9MB/s eta 0:00:01\r\u001b[K     |████████████████████            | 2.1MB 4.9MB/s eta 0:00:01\r\u001b[K     |████████████████████▏           | 2.1MB 4.9MB/s eta 0:00:01\r\u001b[K     |████████████████████▎           | 2.1MB 4.9MB/s eta 0:00:01\r\u001b[K     |████████████████████▍           | 2.1MB 4.9MB/s eta 0:00:01\r\u001b[K     |████████████████████▌           | 2.1MB 4.9MB/s eta 0:00:01\r\u001b[K     |████████████████████▋           | 2.1MB 4.9MB/s eta 0:00:01\r\u001b[K     |████████████████████▊           | 2.1MB 4.9MB/s eta 0:00:01\r\u001b[K     |████████████████████▊           | 2.1MB 4.9MB/s eta 0:00:01\r\u001b[K     |████████████████████▉           | 2.2MB 4.9MB/s eta 0:00:01\r\u001b[K     |█████████████████████           | 2.2MB 4.9MB/s eta 0:00:01\r\u001b[K     |█████████████████████           | 2.2MB 4.9MB/s eta 0:00:01\r\u001b[K     |█████████████████████▏          | 2.2MB 4.9MB/s eta 0:00:01\r\u001b[K     |█████████████████████▎          | 2.2MB 4.9MB/s eta 0:00:01\r\u001b[K     |█████████████████████▍          | 2.2MB 4.9MB/s eta 0:00:01\r\u001b[K     |█████████████████████▌          | 2.2MB 4.9MB/s eta 0:00:01\r\u001b[K     |█████████████████████▋          | 2.2MB 4.9MB/s eta 0:00:01\r\u001b[K     |█████████████████████▊          | 2.2MB 4.9MB/s eta 0:00:01\r\u001b[K     |█████████████████████▊          | 2.2MB 4.9MB/s eta 0:00:01\r\u001b[K     |█████████████████████▉          | 2.3MB 4.9MB/s eta 0:00:01\r\u001b[K     |██████████████████████          | 2.3MB 4.9MB/s eta 0:00:01\r\u001b[K     |██████████████████████          | 2.3MB 4.9MB/s eta 0:00:01\r\u001b[K     |██████████████████████▏         | 2.3MB 4.9MB/s eta 0:00:01\r\u001b[K     |██████████████████████▎         | 2.3MB 4.9MB/s eta 0:00:01\r\u001b[K     |██████████████████████▍         | 2.3MB 4.9MB/s eta 0:00:01\r\u001b[K     |██████████████████████▌         | 2.3MB 4.9MB/s eta 0:00:01\r\u001b[K     |██████████████████████▋         | 2.3MB 4.9MB/s eta 0:00:01\r\u001b[K     |██████████████████████▋         | 2.3MB 4.9MB/s eta 0:00:01\r\u001b[K     |██████████████████████▊         | 2.3MB 4.9MB/s eta 0:00:01\r\u001b[K     |██████████████████████▉         | 2.4MB 4.9MB/s eta 0:00:01\r\u001b[K     |███████████████████████         | 2.4MB 4.9MB/s eta 0:00:01\r\u001b[K     |███████████████████████         | 2.4MB 4.9MB/s eta 0:00:01\r\u001b[K     |███████████████████████▏        | 2.4MB 4.9MB/s eta 0:00:01\r\u001b[K     |███████████████████████▎        | 2.4MB 4.9MB/s eta 0:00:01\r\u001b[K     |███████████████████████▍        | 2.4MB 4.9MB/s eta 0:00:01\r\u001b[K     |███████████████████████▌        | 2.4MB 4.9MB/s eta 0:00:01\r\u001b[K     |███████████████████████▋        | 2.4MB 4.9MB/s eta 0:00:01\r\u001b[K     |███████████████████████▋        | 2.4MB 4.9MB/s eta 0:00:01\r\u001b[K     |███████████████████████▊        | 2.4MB 4.9MB/s eta 0:00:01\r\u001b[K     |███████████████████████▉        | 2.5MB 4.9MB/s eta 0:00:01\r\u001b[K     |████████████████████████        | 2.5MB 4.9MB/s eta 0:00:01\r\u001b[K     |████████████████████████        | 2.5MB 4.9MB/s eta 0:00:01\r\u001b[K     |████████████████████████▏       | 2.5MB 4.9MB/s eta 0:00:01\r\u001b[K     |████████████████████████▎       | 2.5MB 4.9MB/s eta 0:00:01\r\u001b[K     |████████████████████████▍       | 2.5MB 4.9MB/s eta 0:00:01\r\u001b[K     |████████████████████████▌       | 2.5MB 4.9MB/s eta 0:00:01\r\u001b[K     |████████████████████████▌       | 2.5MB 4.9MB/s eta 0:00:01\r\u001b[K     |████████████████████████▋       | 2.5MB 4.9MB/s eta 0:00:01\r\u001b[K     |████████████████████████▊       | 2.5MB 4.9MB/s eta 0:00:01\r\u001b[K     |████████████████████████▉       | 2.6MB 4.9MB/s eta 0:00:01\r\u001b[K     |█████████████████████████       | 2.6MB 4.9MB/s eta 0:00:01\r\u001b[K     |█████████████████████████       | 2.6MB 4.9MB/s eta 0:00:01\r\u001b[K     |█████████████████████████▏      | 2.6MB 4.9MB/s eta 0:00:01\r\u001b[K     |█████████████████████████▎      | 2.6MB 4.9MB/s eta 0:00:01\r\u001b[K     |█████████████████████████▍      | 2.6MB 4.9MB/s eta 0:00:01\r\u001b[K     |█████████████████████████▌      | 2.6MB 4.9MB/s eta 0:00:01\r\u001b[K     |█████████████████████████▌      | 2.6MB 4.9MB/s eta 0:00:01\r\u001b[K     |█████████████████████████▋      | 2.6MB 4.9MB/s eta 0:00:01\r\u001b[K     |█████████████████████████▊      | 2.7MB 4.9MB/s eta 0:00:01\r\u001b[K     |█████████████████████████▉      | 2.7MB 4.9MB/s eta 0:00:01\r\u001b[K     |██████████████████████████      | 2.7MB 4.9MB/s eta 0:00:01\r\u001b[K     |██████████████████████████      | 2.7MB 4.9MB/s eta 0:00:01\r\u001b[K     |██████████████████████████▏     | 2.7MB 4.9MB/s eta 0:00:01\r\u001b[K     |██████████████████████████▎     | 2.7MB 4.9MB/s eta 0:00:01\r\u001b[K     |██████████████████████████▍     | 2.7MB 4.9MB/s eta 0:00:01\r\u001b[K     |██████████████████████████▍     | 2.7MB 4.9MB/s eta 0:00:01\r\u001b[K     |██████████████████████████▌     | 2.7MB 4.9MB/s eta 0:00:01\r\u001b[K     |██████████████████████████▋     | 2.7MB 4.9MB/s eta 0:00:01\r\u001b[K     |██████████████████████████▊     | 2.8MB 4.9MB/s eta 0:00:01\r\u001b[K     |██████████████████████████▉     | 2.8MB 4.9MB/s eta 0:00:01\r\u001b[K     |███████████████████████████     | 2.8MB 4.9MB/s eta 0:00:01\r\u001b[K     |███████████████████████████     | 2.8MB 4.9MB/s eta 0:00:01\r\u001b[K     |███████████████████████████▏    | 2.8MB 4.9MB/s eta 0:00:01\r\u001b[K     |███████████████████████████▎    | 2.8MB 4.9MB/s eta 0:00:01\r\u001b[K     |███████████████████████████▍    | 2.8MB 4.9MB/s eta 0:00:01\r\u001b[K     |███████████████████████████▍    | 2.8MB 4.9MB/s eta 0:00:01\r\u001b[K     |███████████████████████████▌    | 2.8MB 4.9MB/s eta 0:00:01\r\u001b[K     |███████████████████████████▋    | 2.8MB 4.9MB/s eta 0:00:01\r\u001b[K     |███████████████████████████▊    | 2.9MB 4.9MB/s eta 0:00:01\r\u001b[K     |███████████████████████████▉    | 2.9MB 4.9MB/s eta 0:00:01\r\u001b[K     |████████████████████████████    | 2.9MB 4.9MB/s eta 0:00:01\r\u001b[K     |████████████████████████████    | 2.9MB 4.9MB/s eta 0:00:01\r\u001b[K     |████████████████████████████▏   | 2.9MB 4.9MB/s eta 0:00:01\r\u001b[K     |████████████████████████████▎   | 2.9MB 4.9MB/s eta 0:00:01\r\u001b[K     |████████████████████████████▎   | 2.9MB 4.9MB/s eta 0:00:01\r\u001b[K     |████████████████████████████▍   | 2.9MB 4.9MB/s eta 0:00:01\r\u001b[K     |████████████████████████████▌   | 2.9MB 4.9MB/s eta 0:00:01\r\u001b[K     |████████████████████████████▋   | 2.9MB 4.9MB/s eta 0:00:01\r\u001b[K     |████████████████████████████▊   | 3.0MB 4.9MB/s eta 0:00:01\r\u001b[K     |████████████████████████████▉   | 3.0MB 4.9MB/s eta 0:00:01\r\u001b[K     |█████████████████████████████   | 3.0MB 4.9MB/s eta 0:00:01\r\u001b[K     |█████████████████████████████   | 3.0MB 4.9MB/s eta 0:00:01\r\u001b[K     |█████████████████████████████▏  | 3.0MB 4.9MB/s eta 0:00:01\r\u001b[K     |█████████████████████████████▎  | 3.0MB 4.9MB/s eta 0:00:01\r\u001b[K     |█████████████████████████████▎  | 3.0MB 4.9MB/s eta 0:00:01\r\u001b[K     |█████████████████████████████▍  | 3.0MB 4.9MB/s eta 0:00:01\r\u001b[K     |█████████████████████████████▌  | 3.0MB 4.9MB/s eta 0:00:01\r\u001b[K     |█████████████████████████████▋  | 3.1MB 4.9MB/s eta 0:00:01\r\u001b[K     |█████████████████████████████▊  | 3.1MB 4.9MB/s eta 0:00:01\r\u001b[K     |█████████████████████████████▉  | 3.1MB 4.9MB/s eta 0:00:01\r\u001b[K     |██████████████████████████████  | 3.1MB 4.9MB/s eta 0:00:01\r\u001b[K     |██████████████████████████████  | 3.1MB 4.9MB/s eta 0:00:01\r\u001b[K     |██████████████████████████████▏ | 3.1MB 4.9MB/s eta 0:00:01\r\u001b[K     |██████████████████████████████▏ | 3.1MB 4.9MB/s eta 0:00:01\r\u001b[K     |██████████████████████████████▎ | 3.1MB 4.9MB/s eta 0:00:01\r\u001b[K     |██████████████████████████████▍ | 3.1MB 4.9MB/s eta 0:00:01\r\u001b[K     |██████████████████████████████▌ | 3.1MB 4.9MB/s eta 0:00:01\r\u001b[K     |██████████████████████████████▋ | 3.2MB 4.9MB/s eta 0:00:01\r\u001b[K     |██████████████████████████████▊ | 3.2MB 4.9MB/s eta 0:00:01\r\u001b[K     |██████████████████████████████▉ | 3.2MB 4.9MB/s eta 0:00:01\r\u001b[K     |███████████████████████████████ | 3.2MB 4.9MB/s eta 0:00:01\r\u001b[K     |███████████████████████████████ | 3.2MB 4.9MB/s eta 0:00:01\r\u001b[K     |███████████████████████████████▏| 3.2MB 4.9MB/s eta 0:00:01\r\u001b[K     |███████████████████████████████▏| 3.2MB 4.9MB/s eta 0:00:01\r\u001b[K     |███████████████████████████████▎| 3.2MB 4.9MB/s eta 0:00:01\r\u001b[K     |███████████████████████████████▍| 3.2MB 4.9MB/s eta 0:00:01\r\u001b[K     |███████████████████████████████▌| 3.2MB 4.9MB/s eta 0:00:01\r\u001b[K     |███████████████████████████████▋| 3.3MB 4.9MB/s eta 0:00:01\r\u001b[K     |███████████████████████████████▊| 3.3MB 4.9MB/s eta 0:00:01\r\u001b[K     |███████████████████████████████▉| 3.3MB 4.9MB/s eta 0:00:01\r\u001b[K     |████████████████████████████████| 3.3MB 4.9MB/s eta 0:00:01\r\u001b[K     |████████████████████████████████| 3.3MB 4.9MB/s \n",
            "\u001b[?25hRequirement already satisfied, skipping upgrade: protobuf>=3.6.1 in /usr/local/lib/python3.6/dist-packages (from tensorflow_datasets) (3.10.0)\n",
            "Requirement already satisfied, skipping upgrade: tqdm in /usr/local/lib/python3.6/dist-packages (from tensorflow_datasets) (4.41.1)\n",
            "Requirement already satisfied, skipping upgrade: attrs>=18.1.0 in /usr/local/lib/python3.6/dist-packages (from tensorflow_datasets) (19.3.0)\n",
            "Requirement already satisfied, skipping upgrade: termcolor in /usr/local/lib/python3.6/dist-packages (from tensorflow_datasets) (1.1.0)\n",
            "Requirement already satisfied, skipping upgrade: tensorflow-metadata in /usr/local/lib/python3.6/dist-packages (from tensorflow_datasets) (0.21.2)\n",
            "Requirement already satisfied, skipping upgrade: absl-py in /usr/local/lib/python3.6/dist-packages (from tensorflow_datasets) (0.9.0)\n",
            "Requirement already satisfied, skipping upgrade: wrapt in /usr/local/lib/python3.6/dist-packages (from tensorflow_datasets) (1.12.1)\n",
            "Requirement already satisfied, skipping upgrade: numpy in /usr/local/lib/python3.6/dist-packages (from tensorflow_datasets) (1.18.4)\n",
            "Requirement already satisfied, skipping upgrade: future in /usr/local/lib/python3.6/dist-packages (from tensorflow_datasets) (0.16.0)\n",
            "Requirement already satisfied, skipping upgrade: six in /usr/local/lib/python3.6/dist-packages (from tensorflow_datasets) (1.12.0)\n",
            "Requirement already satisfied, skipping upgrade: dill in /usr/local/lib/python3.6/dist-packages (from tensorflow_datasets) (0.3.1.1)\n",
            "Requirement already satisfied, skipping upgrade: requests>=2.19.0 in /usr/local/lib/python3.6/dist-packages (from tensorflow_datasets) (2.23.0)\n",
            "Requirement already satisfied, skipping upgrade: promise in /usr/local/lib/python3.6/dist-packages (from tensorflow_datasets) (2.3)\n",
            "Requirement already satisfied, skipping upgrade: setuptools in /usr/local/lib/python3.6/dist-packages (from protobuf>=3.6.1->tensorflow_datasets) (46.3.0)\n",
            "Requirement already satisfied, skipping upgrade: googleapis-common-protos in /usr/local/lib/python3.6/dist-packages (from tensorflow-metadata->tensorflow_datasets) (1.51.0)\n",
            "Requirement already satisfied, skipping upgrade: idna<3,>=2.5 in /usr/local/lib/python3.6/dist-packages (from requests>=2.19.0->tensorflow_datasets) (2.9)\n",
            "Requirement already satisfied, skipping upgrade: certifi>=2017.4.17 in /usr/local/lib/python3.6/dist-packages (from requests>=2.19.0->tensorflow_datasets) (2020.4.5.1)\n",
            "Requirement already satisfied, skipping upgrade: urllib3!=1.25.0,!=1.25.1,<1.26,>=1.21.1 in /usr/local/lib/python3.6/dist-packages (from requests>=2.19.0->tensorflow_datasets) (1.24.3)\n",
            "Requirement already satisfied, skipping upgrade: chardet<4,>=3.0.2 in /usr/local/lib/python3.6/dist-packages (from requests>=2.19.0->tensorflow_datasets) (3.0.4)\n",
            "Installing collected packages: tensorflow-datasets\n",
            "  Found existing installation: tensorflow-datasets 2.1.0\n",
            "    Uninstalling tensorflow-datasets-2.1.0:\n",
            "      Successfully uninstalled tensorflow-datasets-2.1.0\n",
            "Successfully installed tensorflow-datasets-3.1.0\n"
          ],
          "name": "stdout"
        }
      ]
    },
    {
      "cell_type": "code",
      "metadata": {
        "id": "yhhx7i2YDhDT",
        "colab_type": "code",
        "colab": {}
      },
      "source": [
        "import tensorflow as tf\n",
        "import tensorflow_datasets as tfds \n",
        "import math \n",
        "import numpy as np"
      ],
      "execution_count": 0,
      "outputs": []
    },
    {
      "cell_type": "code",
      "metadata": {
        "id": "FVMFjXLaD9ru",
        "colab_type": "code",
        "colab": {}
      },
      "source": [
        "import logging\n",
        "logger = tf.get_logger()\n",
        "logger.setLevel(logging.ERROR)\n",
        "tfds.disable_progress_bar()"
      ],
      "execution_count": 0,
      "outputs": []
    },
    {
      "cell_type": "code",
      "metadata": {
        "id": "sDnOFqZFEMX6",
        "colab_type": "code",
        "colab": {}
      },
      "source": [
        "dataset , metadata = tfds.load('fashion_mnist',as_supervised = True , with_info = True)\n",
        "\n"
      ],
      "execution_count": 0,
      "outputs": []
    },
    {
      "cell_type": "code",
      "metadata": {
        "id": "ImknrzkbEom8",
        "colab_type": "code",
        "colab": {}
      },
      "source": [
        "train_dataset , test_dataset = dataset['train'] , dataset['test']"
      ],
      "execution_count": 0,
      "outputs": []
    },
    {
      "cell_type": "code",
      "metadata": {
        "id": "0WYGMVEFGm6z",
        "colab_type": "code",
        "colab": {
          "base_uri": "https://localhost:8080/",
          "height": 34
        },
        "outputId": "cfc906a8-8b4a-4a05-8d1b-cb75f7f0eba9"
      },
      "source": [
        "print(train_dataset)"
      ],
      "execution_count": 22,
      "outputs": [
        {
          "output_type": "stream",
          "text": [
            "<PrefetchDataset shapes: ((28, 28, 1), ()), types: (tf.uint8, tf.int64)>\n"
          ],
          "name": "stdout"
        }
      ]
    },
    {
      "cell_type": "code",
      "metadata": {
        "id": "EDUG_wpqF2hB",
        "colab_type": "code",
        "colab": {}
      },
      "source": [
        "num_of_train_exmp = 60000\n",
        "num_of_test_exmp = 10000"
      ],
      "execution_count": 0,
      "outputs": []
    },
    {
      "cell_type": "code",
      "metadata": {
        "id": "1EmKj91fF_Xo",
        "colab_type": "code",
        "colab": {}
      },
      "source": [
        "def normalize(image , labels):\n",
        "  image = tf.cast(image , tf.float32)\n",
        "  image /=255 \n",
        "  return image , labels"
      ],
      "execution_count": 0,
      "outputs": []
    },
    {
      "cell_type": "code",
      "metadata": {
        "id": "kqg7jRbnGcU4",
        "colab_type": "code",
        "colab": {}
      },
      "source": [
        "class_names = ['T-shirt/top', 'Trouser', 'Pullover', 'Dress', 'Coat',\n",
        "               'Sandal',      'Shirt',   'Sneaker',  'Bag',   'Ankle boot']"
      ],
      "execution_count": 0,
      "outputs": []
    },
    {
      "cell_type": "code",
      "metadata": {
        "id": "IvJ0VmCAGq-C",
        "colab_type": "code",
        "colab": {}
      },
      "source": [
        "train_dataset = train_dataset.map(normalize)\n",
        "test_dataset = test_dataset.map(normalize)\n",
        "train_dataset = train_dataset.cache()\n",
        "test_dataset = test_dataset.cache()"
      ],
      "execution_count": 0,
      "outputs": []
    },
    {
      "cell_type": "code",
      "metadata": {
        "id": "0s5EjtLMHEoa",
        "colab_type": "code",
        "colab": {}
      },
      "source": [
        "for image,label in train_dataset.take(1):\n",
        "  break\n",
        "image=image.numpy().reshape(28,28)"
      ],
      "execution_count": 0,
      "outputs": []
    },
    {
      "cell_type": "code",
      "metadata": {
        "id": "HiPAaLuDIhuC",
        "colab_type": "code",
        "colab": {
          "base_uri": "https://localhost:8080/",
          "height": 265
        },
        "outputId": "2c2ffd55-c639-4b7e-f851-883e649a16b8"
      },
      "source": [
        "#plotting a single figure\n",
        "import matplotlib.pyplot as plt\n",
        "\n",
        "plt.figure()\n",
        "plt.imshow(image , cmap=plt.cm.binary)\n",
        "plt.colorbar()\n",
        "plt.grid(False)\n",
        "plt.show()"
      ],
      "execution_count": 40,
      "outputs": [
        {
          "output_type": "display_data",
          "data": {
            "image/png": "[encoded data removed]",
            "text/plain": [
              "<Figure size 432x288 with 2 Axes>"
            ]
          },
          "metadata": {
            "tags": [],
            "needs_background": "light"
          }
        }
      ]
    },
    {
      "cell_type": "code",
      "metadata": {
        "id": "vrdDwk8KJOpN",
        "colab_type": "code",
        "colab": {
          "base_uri": "https://localhost:8080/",
          "height": 589
        },
        "outputId": "576bf9cb-35cb-45c7-c8ca-817d854cbd9c"
      },
      "source": [
        "plt.figure(figsize=(10,10))\n",
        "i=0\n",
        "for (image , label) in test_dataset.take(25):\n",
        "  image=image.numpy().reshape((28,28))\n",
        "  plt.subplot(5,5,i+1)\n",
        "  plt.xticks([])\n",
        "  plt.yticks([])\n",
        "  plt.imshow(image , cmap = plt.cm.binary)\n",
        "  plt.xlabel(class_names[label])\n",
        "  i=i+1\n",
        "plt.show()  "
      ],
      "execution_count": 49,
      "outputs": [
        {
          "output_type": "display_data",
          "data": {
            "image/png": "[encoded data removed]",
            "text/plain": [
              "<Figure size 720x720 with 25 Axes>"
            ]
          },
          "metadata": {
            "tags": []
          }
        }
      ]
    },
    {
      "cell_type": "code",
      "metadata": {
        "id": "bkhbDte5LG0V",
        "colab_type": "code",
        "colab": {}
      },
      "source": [
        "model = tf.keras.Sequential([\n",
        "                             tf.keras.layers.Flatten(input_shape=(28,28,1)),\n",
        "                             tf.keras.layers.Dense(128 , activation = tf.nn.relu),\n",
        "                             tf.keras.layers.Dense(10)\n",
        "])"
      ],
      "execution_count": 0,
      "outputs": []
    },
    {
      "cell_type": "code",
      "metadata": {
        "id": "lKvJSC7YMnWk",
        "colab_type": "code",
        "colab": {}
      },
      "source": [
        "model.compile(optimizer='adam',metrics=['accuracy'],loss=tf.keras.losses.SparseCategoricalCrossentropy(from_logits=True))"
      ],
      "execution_count": 0,
      "outputs": []
    },
    {
      "cell_type": "code",
      "metadata": {
        "id": "t3ezh-N1M8_4",
        "colab_type": "code",
        "colab": {}
      },
      "source": [
        "batch_size = 32\n",
        "train_dataset  = train_dataset.cache().repeat().shuffle(60000).batch(32)"
      ],
      "execution_count": 0,
      "outputs": []
    },
    {
      "cell_type": "code",
      "metadata": {
        "id": "Ne2azIqjNPdZ",
        "colab_type": "code",
        "colab": {}
      },
      "source": [
        "test_dataset = test_dataset.cache().batch(32)\n"
      ],
      "execution_count": 0,
      "outputs": []
    },
    {
      "cell_type": "code",
      "metadata": {
        "id": "AiCG-D8eNWYF",
        "colab_type": "code",
        "outputId": "e7d8899f-4ebe-4d2e-b556-b201037a5db6",
        "colab": {
          "base_uri": "https://localhost:8080/",
          "height": 269
        }
      },
      "source": [
        "model.fit(train_dataset , epochs = 7 , steps_per_epoch= math.ceil(60000/32))"
      ],
      "execution_count": 57,
      "outputs": [
        {
          "output_type": "stream",
          "text": [
            "Epoch 1/7\n",
            "1875/1875 [==============================] - 4s 2ms/step - loss: 0.4437 - accuracy: 0.8443\n",
            "Epoch 2/7\n",
            "1875/1875 [==============================] - 4s 2ms/step - loss: 0.4349 - accuracy: 0.8467\n",
            "Epoch 3/7\n",
            "1875/1875 [==============================] - 4s 2ms/step - loss: 0.4228 - accuracy: 0.8510\n",
            "Epoch 4/7\n",
            "1875/1875 [==============================] - 4s 2ms/step - loss: 0.4144 - accuracy: 0.8534\n",
            "Epoch 5/7\n",
            "1875/1875 [==============================] - 4s 2ms/step - loss: 0.4144 - accuracy: 0.8548\n",
            "Epoch 6/7\n",
            "1875/1875 [==============================] - 4s 2ms/step - loss: 0.4092 - accuracy: 0.8557\n",
            "Epoch 7/7\n",
            "1875/1875 [==============================] - 4s 2ms/step - loss: 0.4014 - accuracy: 0.8582\n"
          ],
          "name": "stdout"
        },
        {
          "output_type": "execute_result",
          "data": {
            "text/plain": [
              "<tensorflow.python.keras.callbacks.History at 0x7f5a62e263c8>"
            ]
          },
          "metadata": {
            "tags": []
          },
          "execution_count": 57
        }
      ]
    },
    {
      "cell_type": "code",
      "metadata": {
        "id": "XWjeEoLFOGdb",
        "colab_type": "code",
        "colab": {}
      },
      "source": [
        "for image , label in test_dataset.take(1):   #its better that we call the image or label from this way\n",
        "  image = image.numpy()\n",
        "  label = label.numpy()\n",
        "  prediction = model.predict(image)\n",
        "  break"
      ],
      "execution_count": 0,
      "outputs": []
    },
    {
      "cell_type": "code",
      "metadata": {
        "id": "uAhSl_unO5TI",
        "colab_type": "code",
        "colab": {
          "base_uri": "https://localhost:8080/",
          "height": 34
        },
        "outputId": "6e4b439f-9cbd-455e-ef80-7462d950711c"
      },
      "source": [
        "prediction.shape"
      ],
      "execution_count": 64,
      "outputs": [
        {
          "output_type": "execute_result",
          "data": {
            "text/plain": [
              "(32, 10)"
            ]
          },
          "metadata": {
            "tags": []
          },
          "execution_count": 64
        }
      ]
    },
    {
      "cell_type": "code",
      "metadata": {
        "id": "bGgn2zk7PA5y",
        "colab_type": "code",
        "colab": {
          "base_uri": "https://localhost:8080/",
          "height": 67
        },
        "outputId": "b527f1dd-47f3-4f22-e93b-2895709265f2"
      },
      "source": [
        "prediction[0]"
      ],
      "execution_count": 66,
      "outputs": [
        {
          "output_type": "execute_result",
          "data": {
            "text/plain": [
              "array([ -4.156885 ,  -4.4613237,   1.2477564,  -5.848739 ,   4.2355843,\n",
              "       -16.217285 ,   2.3000236, -20.788841 ,  -2.4473698, -18.46753  ],\n",
              "      dtype=float32)"
            ]
          },
          "metadata": {
            "tags": []
          },
          "execution_count": 66
        }
      ]
    },
    {
      "cell_type": "code",
      "metadata": {
        "id": "k0gHdVw3PIJA",
        "colab_type": "code",
        "colab": {
          "base_uri": "https://localhost:8080/",
          "height": 34
        },
        "outputId": "fb5e2792-15c1-4193-a00e-38c3e3fdd874"
      },
      "source": [
        "np.argmax(prediction[0])"
      ],
      "execution_count": 67,
      "outputs": [
        {
          "output_type": "execute_result",
          "data": {
            "text/plain": [
              "4"
            ]
          },
          "metadata": {
            "tags": []
          },
          "execution_count": 67
        }
      ]
    },
    {
      "cell_type": "code",
      "metadata": {
        "id": "lryecx4qPdOi",
        "colab_type": "code",
        "colab": {
          "base_uri": "https://localhost:8080/",
          "height": 34
        },
        "outputId": "4b029940-53d6-4533-ff9f-f3923a14d520"
      },
      "source": [
        "label[0]"
      ],
      "execution_count": 70,
      "outputs": [
        {
          "output_type": "execute_result",
          "data": {
            "text/plain": [
              "4"
            ]
          },
          "metadata": {
            "tags": []
          },
          "execution_count": 70
        }
      ]
    },
    {
      "cell_type": "markdown",
      "metadata": {
        "id": "1wNUznDdQJnw",
        "colab_type": "text"
      },
      "source": [
        "<h1>BINGO!"
      ]
    },
    {
      "cell_type": "code",
      "metadata": {
        "id": "fGFCaqCYPjOm",
        "colab_type": "code",
        "colab": {
          "base_uri": "https://localhost:8080/",
          "height": 34
        },
        "outputId": "7be2d8c1-048c-4670-ec18-5a431ca17437"
      },
      "source": [
        "test_loss , test_accuracy = model.evaluate(test_dataset , steps = 10000/32)"
      ],
      "execution_count": 71,
      "outputs": [
        {
          "output_type": "stream",
          "text": [
            "313/312 [==============================] - 1s 2ms/step - loss: 0.4417 - accuracy: 0.8416\n"
          ],
          "name": "stdout"
        }
      ]
    },
    {
      "cell_type": "code",
      "metadata": {
        "id": "Nvh8MiXYQFi2",
        "colab_type": "code",
        "colab": {}
      },
      "source": [
        ""
      ],
      "execution_count": 0,
      "outputs": []
    }
  ]
}