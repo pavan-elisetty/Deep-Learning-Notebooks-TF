{
  "nbformat": 4,
  "nbformat_minor": 0,
  "metadata": {
    "colab": {
      "name": "NN.ipynb",
      "provenance": [],
      "collapsed_sections": []
    },
    "kernelspec": {
      "name": "python3",
      "display_name": "Python 3"
    },
    "accelerator": "GPU"
  },
  "cells": [
    {
      "cell_type": "code",
      "metadata": {
        "id": "_prxt2I7wnib",
        "colab_type": "code",
        "colab": {}
      },
      "source": [
        "import tensorflow as tf"
      ],
      "execution_count": 0,
      "outputs": []
    },
    {
      "cell_type": "code",
      "metadata": {
        "id": "Pners1mmwtQW",
        "colab_type": "code",
        "colab": {}
      },
      "source": [
        "import numpy as np\n",
        "import logging"
      ],
      "execution_count": 0,
      "outputs": []
    },
    {
      "cell_type": "code",
      "metadata": {
        "id": "4jIx1ymlwwqx",
        "colab_type": "code",
        "colab": {}
      },
      "source": [
        "logger = tf.get_logger() #it is used to obtain logs\n",
        "logger.setLevel(logging.ERROR) #now ERROR is set , such that erorr log are obtained"
      ],
      "execution_count": 0,
      "outputs": []
    },
    {
      "cell_type": "code",
      "metadata": {
        "id": "UMo5btpNxXhu",
        "colab_type": "code",
        "outputId": "85773774-bd46-4d3f-bf67-9ae41cc52686",
        "colab": {
          "base_uri": "https://localhost:8080/",
          "height": 134
        }
      },
      "source": [
        "celsius_q    = np.array([-40, -10,  0,  8, 15, 22,  38],  dtype=float)\n",
        "fahrenheit_a = np.array([-40,  14, 32, 46, 59, 72, 100],  dtype=float)\n",
        "\n",
        "for i,c in enumerate(celsius_q):\n",
        "  print(\"{} degrees Celsius = {} degrees Fahrenheit\".format(c, fahrenheit_a[i])) #can use other than enumerate"
      ],
      "execution_count": 0,
      "outputs": [
        {
          "output_type": "stream",
          "text": [
            "-40.0 degrees Celsius = -40.0 degrees Fahrenheit\n",
            "-10.0 degrees Celsius = 14.0 degrees Fahrenheit\n",
            "0.0 degrees Celsius = 32.0 degrees Fahrenheit\n",
            "8.0 degrees Celsius = 46.0 degrees Fahrenheit\n",
            "15.0 degrees Celsius = 59.0 degrees Fahrenheit\n",
            "22.0 degrees Celsius = 72.0 degrees Fahrenheit\n",
            "38.0 degrees Celsius = 100.0 degrees Fahrenheit\n"
          ],
          "name": "stdout"
        }
      ]
    },
    {
      "cell_type": "code",
      "metadata": {
        "id": "2AQywT-2Z4Pl",
        "colab_type": "code",
        "colab": {}
      },
      "source": [
        "#creating with the simplest model possible(Dense Network)\n",
        "#bulding a layer , and assigning it to l0--step1\n",
        "l0=tf.keras.layers.Dense(units=1 , input_shape = [1]) \n",
        "#Assembling layers in to model using sequential model definition , which takes the input argument as a list of layers in order from i/p to O/p--step2\n",
        "model = tf.keras.Sequential([l0])\n"
      ],
      "execution_count": 0,
      "outputs": []
    },
    {
      "cell_type": "code",
      "metadata": {
        "id": "WcQ9fcTSckKx",
        "colab_type": "code",
        "colab": {}
      },
      "source": [
        "#compiling the model with the loss function and optimizer --step 3\n",
        "model.compile(loss='mean_squared_error' , optimizer=tf.keras.optimizers.Adam(0.1))   #optimizer like gradient descent and here the learning rate is set to 0.1"
      ],
      "execution_count": 0,
      "outputs": []
    },
    {
      "cell_type": "code",
      "metadata": {
        "id": "CtIcHfxOeYCV",
        "colab_type": "code",
        "outputId": "58c32997-7603-46ca-9b84-2caf59186eac",
        "colab": {
          "base_uri": "https://localhost:8080/",
          "height": 34
        }
      },
      "source": [
        "#the last step is training and is done by fit method --step 4\n",
        "history = model.fit(celsius_q ,fahrenheit_a , epochs=500 , verbose=False) #epochs = no.of cycles , verbose controls how much output should it produce\n",
        "print(\"done training\")"
      ],
      "execution_count": 0,
      "outputs": [
        {
          "output_type": "stream",
          "text": [
            "done training\n"
          ],
          "name": "stdout"
        }
      ]
    },
    {
      "cell_type": "code",
      "metadata": {
        "id": "76_C2a67gt1t",
        "colab_type": "code",
        "outputId": "7e10c94a-5d3b-49dd-b0b6-6df11b49c218",
        "colab": {
          "base_uri": "https://localhost:8080/",
          "height": 296
        }
      },
      "source": [
        "#viewing our model training\n",
        "import matplotlib.pyplot as plt\n",
        "plt.xlabel('epoch num')\n",
        "plt.ylabel('training loss')\n",
        "plt.plot(history.history['loss'])"
      ],
      "execution_count": 0,
      "outputs": [
        {
          "output_type": "execute_result",
          "data": {
            "text/plain": [
              "[<matplotlib.lines.Line2D at 0x7f7adbcce358>]"
            ]
          },
          "metadata": {
            "tags": []
          },
          "execution_count": 54
        },
        {
          "output_type": "display_data",
          "data": {
            "image/png": "[encoded data removed]",
            "text/plain": [
              "<Figure size 432x288 with 1 Axes>"
            ]
          },
          "metadata": {
            "tags": [],
            "needs_background": "light"
          }
        }
      ]
    },
    {
      "cell_type": "code",
      "metadata": {
        "id": "uo241pUnhqhp",
        "colab_type": "code",
        "outputId": "cc08a08e-bc83-4122-a4a4-bab96cdba7d0",
        "colab": {
          "base_uri": "https://localhost:8080/",
          "height": 34
        }
      },
      "source": [
        "print(model.predict([100]))"
      ],
      "execution_count": 0,
      "outputs": [
        {
          "output_type": "stream",
          "text": [
            "[[211.33797]]\n"
          ],
          "name": "stdout"
        }
      ]
    },
    {
      "cell_type": "code",
      "metadata": {
        "id": "9emqJaOGh1yx",
        "colab_type": "code",
        "outputId": "744d2ac3-525e-4df4-c263-d53d141bf9bd",
        "colab": {
          "base_uri": "https://localhost:8080/",
          "height": 34
        }
      },
      "source": [
        "print(\"these are the internal weights of our layer{}\".format(l0.get_weights()))\n",
        "#obtained our result"
      ],
      "execution_count": 0,
      "outputs": [
        {
          "output_type": "stream",
          "text": [
            "these are the internal weights of our layer[array([[1.8204613]], dtype=float32), array([29.291842], dtype=float32)]\n"
          ],
          "name": "stdout"
        }
      ]
    },
    {
      "cell_type": "code",
      "metadata": {
        "id": "AOE16kzoitRV",
        "colab_type": "code",
        "outputId": "2f9279a8-6b76-4da0-a069-9705b46d4e88",
        "colab": {
          "base_uri": "https://localhost:8080/",
          "height": 34
        }
      },
      "source": [
        "#trying much more complex forms\n",
        "l0=tf.keras.layers.Dense(units = 4 , input_shape = [1])\n",
        "l1 = tf.keras.layers.Dense(units = 4)\n",
        "l2=tf.keras.layers.Dense(units = 1)\n",
        "model=tf.keras.Sequential([l0,l1,l2])\n",
        "model.compile(loss = 'mean_squared_error', optimizer=tf.keras.optimizers.Adam(0.1))\n",
        "#model.fit(celsius_q , fahrenheit_a , epochs=500 , verbose=False)\n",
        "hist=model.fit(celsius_q, fahrenheit_a, epochs=500, verbose=False)\n",
        "model.predict([100]) #some better than previous one\n"
      ],
      "execution_count": 0,
      "outputs": [
        {
          "output_type": "execute_result",
          "data": {
            "text/plain": [
              "array([[211.74744]], dtype=float32)"
            ]
          },
          "metadata": {
            "tags": []
          },
          "execution_count": 57
        }
      ]
    },
    {
      "cell_type": "code",
      "metadata": {
        "id": "p6dOG4OoSXHR",
        "colab_type": "code",
        "colab": {}
      },
      "source": [
        ""
      ],
      "execution_count": 0,
      "outputs": []
    }
  ]
}